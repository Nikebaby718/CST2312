{
 "cells": [
  {
   "cell_type": "code",
   "execution_count": 60,
   "id": "393fd022",
   "metadata": {},
   "outputs": [],
   "source": [
    "import csv\n",
    "from csv import DictReader\n",
    "import re\n",
    "import pandas as pd\n",
    "import numpy as np\n",
    "from matplotlib import pyplot as plt"
   ]
  },
  {
   "cell_type": "code",
   "execution_count": 61,
   "id": "cdf34157",
   "metadata": {},
   "outputs": [
    {
     "data": {
      "text/plain": [
       "{'School Name': 'University of California, Berkeley',\n",
       " 'City': 'Berkeley',\n",
       " 'Region': 'California',\n",
       " 'Starting Median Salary': '$59,900.00 ',\n",
       " 'Mid-Career Median Salary': '$112,000.00 ',\n",
       " 'Mid-Career 10th Percentile Salary': '$59,500.00 ',\n",
       " 'Mid-Career 25th Percentile Salary': '$81,000.00 ',\n",
       " 'Mid-Career 75th Percentile Salary': '$149,000.00 ',\n",
       " 'Mid-Career 90th Percentile Salary': '$201,000.00 '}"
      ]
     },
     "execution_count": 61,
     "metadata": {},
     "output_type": "execute_result"
    }
   ],
   "source": [
    "with open('C:/Users/13474/Downloads/salaries-by-region.csv', 'r') as f:\n",
    "    csv_reader = csv.DictReader(f)\n",
    "    school_names = list(csv_reader)\n",
    "school_names[3]  #,school_names[4]"
   ]
  },
  {
   "cell_type": "code",
   "execution_count": 63,
   "id": "3fd99365",
   "metadata": {},
   "outputs": [
    {
     "data": {
      "text/plain": [
       "320"
      ]
     },
     "execution_count": 63,
     "metadata": {},
     "output_type": "execute_result"
    }
   ],
   "source": [
    "len(school_names)"
   ]
  },
  {
   "cell_type": "code",
   "execution_count": 76,
   "id": "96f8b2c6",
   "metadata": {},
   "outputs": [
    {
     "name": "stdout",
     "output_type": "stream",
     "text": [
      "The total salary for this state is :  $ 1428900.0\n",
      "The average starting salary in this state is:  $ 51032.142857142855\n",
      "Harvey Mudd College average starting salary is more than the state's starting salary, this school is worth it\n",
      "Starting Median Salary for this school:  $71,800.00 \n"
     ]
    }
   ],
   "source": [
    "State = \"California\"\n",
    "total_Salary = 0\n",
    "Number_of_schools = 0\n",
    "for school in school_names:\n",
    "     #print(f\"{school['School Name']} \\t {school['Region']}: \\t\\t  {school['Starting Median Salary']}\")\n",
    "    if school['Region'] == State:\n",
    "        #print(\"true\")\n",
    "        Number_of_schools += 1\n",
    "        slary = school['Starting Median Salary']\n",
    "        slary = slary.replace(\",\",\"\")\n",
    "        slary = slary.replace(\"$\",\"\")\n",
    "        total_Salary +=float(slary)\n",
    "\n",
    "State_Avg = total_Salary/Number_of_schools\n",
    "\n",
    "print(\"The total salary for this state is : \", \"$\", total_Salary)\n",
    "print(\"The average starting salary in this state is: \", \"$\", State_Avg)\n",
    "\n",
    "#Use the school's index to test the worthiness of the school, in this example the [2] index is harvey mudd college\n",
    "school = school_names[2]\n",
    "if float(school['Starting Median Salary'].replace(\"$\",\"\").replace(\",\",\"\")) > State_Avg:\n",
    "    print(f\"{school['School Name']} average starting salary is more than the state's starting salary, this school is worth it\")\n",
    "else:\n",
    "    print(f\"{school['School Name']} average starting salary is less than the state's starting salary, this school isn't worth it\")\n",
    "print(f\"Starting Median Salary for this school:  {school['Starting Median Salary']}\")\n"
   ]
  },
  {
   "cell_type": "code",
   "execution_count": null,
   "id": "2927dec8",
   "metadata": {},
   "outputs": [],
   "source": []
  },
  {
   "cell_type": "code",
   "execution_count": null,
   "id": "309d6cff",
   "metadata": {},
   "outputs": [],
   "source": []
  }
 ],
 "metadata": {
  "kernelspec": {
   "display_name": "Python 3",
   "language": "python",
   "name": "python3"
  },
  "language_info": {
   "codemirror_mode": {
    "name": "ipython",
    "version": 3
   },
   "file_extension": ".py",
   "mimetype": "text/x-python",
   "name": "python",
   "nbconvert_exporter": "python",
   "pygments_lexer": "ipython3",
   "version": "3.8.8"
  }
 },
 "nbformat": 4,
 "nbformat_minor": 5
}
